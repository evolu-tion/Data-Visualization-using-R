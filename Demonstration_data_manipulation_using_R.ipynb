{
  "nbformat": 4,
  "nbformat_minor": 0,
  "metadata": {
    "colab": {
      "name": "Demonstration data manipulation using R.ipynb",
      "provenance": [],
      "toc_visible": true,
      "include_colab_link": true
    },
    "kernelspec": {
      "name": "ir",
      "display_name": "R"
    }
  },
  "cells": [
    {
      "cell_type": "markdown",
      "metadata": {
        "id": "view-in-github",
        "colab_type": "text"
      },
      "source": [
        "<a href=\"https://colab.research.google.com/github/evolu-tion/Data-Visualization-using-R/blob/main/Demonstration_data_manipulation_using_R.ipynb\" target=\"_parent\"><img src=\"https://colab.research.google.com/assets/colab-badge.svg\" alt=\"Open In Colab\"/></a>"
      ]
    },
    {
      "cell_type": "markdown",
      "metadata": {
        "id": "fGGtwfLJ_nP2"
      },
      "source": [
        "# Demonstration R data manipulation and visualization using R 2021\r\n",
        "by Nattawet Sriwichai, Nattavat Sukko, and Rungaroon Suksamran"
      ]
    },
    {
      "cell_type": "markdown",
      "metadata": {
        "id": "B7MHO47X_nv7"
      },
      "source": [
        "## 0. Loading tidyverse, a required package"
      ]
    },
    {
      "cell_type": "code",
      "metadata": {
        "colab": {
          "base_uri": "https://localhost:8080/"
        },
        "id": "e4T8T9u1_GVh",
        "outputId": "38088a99-d0f4-4171-b720-64c2ede8ff6d"
      },
      "source": [
        "library(tidyverse)"
      ],
      "execution_count": 1,
      "outputs": [
        {
          "output_type": "stream",
          "text": [
            "── \u001b[1mAttaching packages\u001b[22m ─────────────────────────────────────── tidyverse 1.3.0 ──\n",
            "\n",
            "\u001b[32m✔\u001b[39m \u001b[34mggplot2\u001b[39m 3.3.3     \u001b[32m✔\u001b[39m \u001b[34mpurrr  \u001b[39m 0.3.4\n",
            "\u001b[32m✔\u001b[39m \u001b[34mtibble \u001b[39m 3.0.6     \u001b[32m✔\u001b[39m \u001b[34mdplyr  \u001b[39m 1.0.3\n",
            "\u001b[32m✔\u001b[39m \u001b[34mtidyr  \u001b[39m 1.1.2     \u001b[32m✔\u001b[39m \u001b[34mstringr\u001b[39m 1.4.0\n",
            "\u001b[32m✔\u001b[39m \u001b[34mreadr  \u001b[39m 1.4.0     \u001b[32m✔\u001b[39m \u001b[34mforcats\u001b[39m 0.5.1\n",
            "\n",
            "── \u001b[1mConflicts\u001b[22m ────────────────────────────────────────── tidyverse_conflicts() ──\n",
            "\u001b[31m✖\u001b[39m \u001b[34mdplyr\u001b[39m::\u001b[32mfilter()\u001b[39m masks \u001b[34mstats\u001b[39m::filter()\n",
            "\u001b[31m✖\u001b[39m \u001b[34mdplyr\u001b[39m::\u001b[32mlag()\u001b[39m    masks \u001b[34mstats\u001b[39m::lag()\n",
            "\n"
          ],
          "name": "stderr"
        }
      ]
    },
    {
      "cell_type": "markdown",
      "metadata": {
        "id": "zhCRne_d_6G-"
      },
      "source": [
        "## 1. Import data `\"S1-RBR2019.Physio.txt\"` into df_physio variable using `read_tsv()`"
      ]
    },
    {
      "cell_type": "code",
      "metadata": {
        "colab": {
          "base_uri": "https://localhost:8080/",
          "height": 1000
        },
        "id": "fRUQwPpB_8I4",
        "outputId": "40c41fbc-a83b-420f-c189-ecc277cb6b82"
      },
      "source": [
        "tbl_physio <- read_delim(file = \"S1-RBR2019.Physio.txt\", delim = \"\\t\")\r\n",
        "str(tbl_physio)\r\n",
        "head(tbl_physio)"
      ],
      "execution_count": 2,
      "outputs": [
        {
          "output_type": "stream",
          "text": [
            "\n",
            "\u001b[36m──\u001b[39m \u001b[1m\u001b[1mColumn specification\u001b[1m\u001b[22m \u001b[36m────────────────────────────────────────────────────────\u001b[39m\n",
            "cols(\n",
            "  Sample = \u001b[31mcol_character()\u001b[39m,\n",
            "  Age_MAP = \u001b[32mcol_double()\u001b[39m,\n",
            "  Age_DAP = \u001b[32mcol_double()\u001b[39m,\n",
            "  Condition = \u001b[31mcol_character()\u001b[39m,\n",
            "  Mature_leaf = \u001b[32mcol_double()\u001b[39m,\n",
            "  Senescence_leaf = \u001b[32mcol_double()\u001b[39m,\n",
            "  Reproductive_part = \u001b[32mcol_double()\u001b[39m,\n",
            "  Petiole = \u001b[32mcol_double()\u001b[39m,\n",
            "  Stem = \u001b[32mcol_double()\u001b[39m,\n",
            "  Stem_cutting = \u001b[32mcol_double()\u001b[39m,\n",
            "  Fibrous_root = \u001b[32mcol_double()\u001b[39m,\n",
            "  Lateral_root = \u001b[32mcol_double()\u001b[39m,\n",
            "  Intermediate_root = \u001b[32mcol_double()\u001b[39m,\n",
            "  Storage_root = \u001b[32mcol_double()\u001b[39m\n",
            ")\n",
            "\n",
            "\n"
          ],
          "name": "stderr"
        },
        {
          "output_type": "stream",
          "text": [
            "spec_tbl_df [72 × 14] (S3: spec_tbl_df/tbl_df/tbl/data.frame)\n",
            " $ Sample           : chr [1:72] \"C10-KU50-D035-t09-CV02_04-W02_06-01\" \"C10-KU50-D035-t09-CV02_04-W02_06-02\" \"C10-KU50-D035-t09-CV02_04-W02_06-03\" \"C10-KU50-D035-t09-CV02_04-W02_06-04\" ...\n",
            " $ Age_MAP          : num [1:72] 1 1 1 1 2 2 2 2 3 3 ...\n",
            " $ Age_DAP          : num [1:72] 35 35 35 35 62 62 62 62 89 89 ...\n",
            " $ Condition        : chr [1:72] \"KcH\" \"KcH\" \"KcH\" \"KcH\" ...\n",
            " $ Mature_leaf      : num [1:72] 2.3 2.94 2.29 4.1 8.65 ...\n",
            " $ Senescence_leaf  : num [1:72] 0 0 0 0 0 0 0 0 0 0 ...\n",
            " $ Reproductive_part: num [1:72] 0 0 0 0 0 0 0 0 0 0 ...\n",
            " $ Petiole          : num [1:72] 0.75 0.93 0.67 1.31 2.49 ...\n",
            " $ Stem             : num [1:72] 1.9 1.83 1.54 2.08 5.48 ...\n",
            " $ Stem_cutting     : num [1:72] 18 15.2 18.9 18.5 20.2 ...\n",
            " $ Fibrous_root     : num [1:72] 0.29 0.21 0.42 0.32 4.54 2.08 3.38 2.65 5.44 4.38 ...\n",
            " $ Lateral_root     : num [1:72] 0 0 0 0 0 0 0 0 0 0 ...\n",
            " $ Intermediate_root: num [1:72] 0 0 0 0 0 0 0 0 0.66 5.3 ...\n",
            " $ Storage_root     : num [1:72] 0 0 0 0 0 0 0 0 0 23.5 ...\n",
            " - attr(*, \"spec\")=\n",
            "  .. cols(\n",
            "  ..   Sample = \u001b[31mcol_character()\u001b[39m,\n",
            "  ..   Age_MAP = \u001b[32mcol_double()\u001b[39m,\n",
            "  ..   Age_DAP = \u001b[32mcol_double()\u001b[39m,\n",
            "  ..   Condition = \u001b[31mcol_character()\u001b[39m,\n",
            "  ..   Mature_leaf = \u001b[32mcol_double()\u001b[39m,\n",
            "  ..   Senescence_leaf = \u001b[32mcol_double()\u001b[39m,\n",
            "  ..   Reproductive_part = \u001b[32mcol_double()\u001b[39m,\n",
            "  ..   Petiole = \u001b[32mcol_double()\u001b[39m,\n",
            "  ..   Stem = \u001b[32mcol_double()\u001b[39m,\n",
            "  ..   Stem_cutting = \u001b[32mcol_double()\u001b[39m,\n",
            "  ..   Fibrous_root = \u001b[32mcol_double()\u001b[39m,\n",
            "  ..   Lateral_root = \u001b[32mcol_double()\u001b[39m,\n",
            "  ..   Intermediate_root = \u001b[32mcol_double()\u001b[39m,\n",
            "  ..   Storage_root = \u001b[32mcol_double()\u001b[39m\n",
            "  .. )\n"
          ],
          "name": "stdout"
        },
        {
          "output_type": "display_data",
          "data": {
            "text/plain": [
              "  Sample                              Age_MAP Age_DAP Condition Mature_leaf\n",
              "1 C10-KU50-D035-t09-CV02_04-W02_06-01 1       35      KcH       2.30       \n",
              "2 C10-KU50-D035-t09-CV02_04-W02_06-02 1       35      KcH       2.94       \n",
              "3 C10-KU50-D035-t09-CV02_04-W02_06-03 1       35      KcH       2.29       \n",
              "4 C10-KU50-D035-t09-CV02_04-W02_06-04 1       35      KcH       4.10       \n",
              "5 C10-KU50-D062-t09-CV02_04-W02_06-01 2       62      KcH       8.65       \n",
              "6 C10-KU50-D062-t09-CV02_04-W02_06-02 2       62      KcH       8.14       \n",
              "  Senescence_leaf Reproductive_part Petiole Stem Stem_cutting Fibrous_root\n",
              "1 0               0                 0.75    1.90 18.03        0.29        \n",
              "2 0               0                 0.93    1.83 15.25        0.21        \n",
              "3 0               0                 0.67    1.54 18.87        0.42        \n",
              "4 0               0                 1.31    2.08 18.50        0.32        \n",
              "5 0               0                 2.49    5.48 20.21        4.54        \n",
              "6 0               0                 2.40    5.51 21.78        2.08        \n",
              "  Lateral_root Intermediate_root Storage_root\n",
              "1 0            0                 0           \n",
              "2 0            0                 0           \n",
              "3 0            0                 0           \n",
              "4 0            0                 0           \n",
              "5 0            0                 0           \n",
              "6 0            0                 0           "
            ],
            "text/latex": "A tibble: 6 × 14\n\\begin{tabular}{llllllllllllll}\n Sample & Age\\_MAP & Age\\_DAP & Condition & Mature\\_leaf & Senescence\\_leaf & Reproductive\\_part & Petiole & Stem & Stem\\_cutting & Fibrous\\_root & Lateral\\_root & Intermediate\\_root & Storage\\_root\\\\\n <chr> & <dbl> & <dbl> & <chr> & <dbl> & <dbl> & <dbl> & <dbl> & <dbl> & <dbl> & <dbl> & <dbl> & <dbl> & <dbl>\\\\\n\\hline\n\t C10-KU50-D035-t09-CV02\\_04-W02\\_06-01 & 1 & 35 & KcH & 2.30 & 0 & 0 & 0.75 & 1.90 & 18.03 & 0.29 & 0 & 0 & 0\\\\\n\t C10-KU50-D035-t09-CV02\\_04-W02\\_06-02 & 1 & 35 & KcH & 2.94 & 0 & 0 & 0.93 & 1.83 & 15.25 & 0.21 & 0 & 0 & 0\\\\\n\t C10-KU50-D035-t09-CV02\\_04-W02\\_06-03 & 1 & 35 & KcH & 2.29 & 0 & 0 & 0.67 & 1.54 & 18.87 & 0.42 & 0 & 0 & 0\\\\\n\t C10-KU50-D035-t09-CV02\\_04-W02\\_06-04 & 1 & 35 & KcH & 4.10 & 0 & 0 & 1.31 & 2.08 & 18.50 & 0.32 & 0 & 0 & 0\\\\\n\t C10-KU50-D062-t09-CV02\\_04-W02\\_06-01 & 2 & 62 & KcH & 8.65 & 0 & 0 & 2.49 & 5.48 & 20.21 & 4.54 & 0 & 0 & 0\\\\\n\t C10-KU50-D062-t09-CV02\\_04-W02\\_06-02 & 2 & 62 & KcH & 8.14 & 0 & 0 & 2.40 & 5.51 & 21.78 & 2.08 & 0 & 0 & 0\\\\\n\\end{tabular}\n",
            "text/markdown": "\nA tibble: 6 × 14\n\n| Sample &lt;chr&gt; | Age_MAP &lt;dbl&gt; | Age_DAP &lt;dbl&gt; | Condition &lt;chr&gt; | Mature_leaf &lt;dbl&gt; | Senescence_leaf &lt;dbl&gt; | Reproductive_part &lt;dbl&gt; | Petiole &lt;dbl&gt; | Stem &lt;dbl&gt; | Stem_cutting &lt;dbl&gt; | Fibrous_root &lt;dbl&gt; | Lateral_root &lt;dbl&gt; | Intermediate_root &lt;dbl&gt; | Storage_root &lt;dbl&gt; |\n|---|---|---|---|---|---|---|---|---|---|---|---|---|---|\n| C10-KU50-D035-t09-CV02_04-W02_06-01 | 1 | 35 | KcH | 2.30 | 0 | 0 | 0.75 | 1.90 | 18.03 | 0.29 | 0 | 0 | 0 |\n| C10-KU50-D035-t09-CV02_04-W02_06-02 | 1 | 35 | KcH | 2.94 | 0 | 0 | 0.93 | 1.83 | 15.25 | 0.21 | 0 | 0 | 0 |\n| C10-KU50-D035-t09-CV02_04-W02_06-03 | 1 | 35 | KcH | 2.29 | 0 | 0 | 0.67 | 1.54 | 18.87 | 0.42 | 0 | 0 | 0 |\n| C10-KU50-D035-t09-CV02_04-W02_06-04 | 1 | 35 | KcH | 4.10 | 0 | 0 | 1.31 | 2.08 | 18.50 | 0.32 | 0 | 0 | 0 |\n| C10-KU50-D062-t09-CV02_04-W02_06-01 | 2 | 62 | KcH | 8.65 | 0 | 0 | 2.49 | 5.48 | 20.21 | 4.54 | 0 | 0 | 0 |\n| C10-KU50-D062-t09-CV02_04-W02_06-02 | 2 | 62 | KcH | 8.14 | 0 | 0 | 2.40 | 5.51 | 21.78 | 2.08 | 0 | 0 | 0 |\n\n",
            "text/html": [
              "<table class=\"dataframe\">\n",
              "<caption>A tibble: 6 × 14</caption>\n",
              "<thead>\n",
              "\t<tr><th scope=col>Sample</th><th scope=col>Age_MAP</th><th scope=col>Age_DAP</th><th scope=col>Condition</th><th scope=col>Mature_leaf</th><th scope=col>Senescence_leaf</th><th scope=col>Reproductive_part</th><th scope=col>Petiole</th><th scope=col>Stem</th><th scope=col>Stem_cutting</th><th scope=col>Fibrous_root</th><th scope=col>Lateral_root</th><th scope=col>Intermediate_root</th><th scope=col>Storage_root</th></tr>\n",
              "\t<tr><th scope=col>&lt;chr&gt;</th><th scope=col>&lt;dbl&gt;</th><th scope=col>&lt;dbl&gt;</th><th scope=col>&lt;chr&gt;</th><th scope=col>&lt;dbl&gt;</th><th scope=col>&lt;dbl&gt;</th><th scope=col>&lt;dbl&gt;</th><th scope=col>&lt;dbl&gt;</th><th scope=col>&lt;dbl&gt;</th><th scope=col>&lt;dbl&gt;</th><th scope=col>&lt;dbl&gt;</th><th scope=col>&lt;dbl&gt;</th><th scope=col>&lt;dbl&gt;</th><th scope=col>&lt;dbl&gt;</th></tr>\n",
              "</thead>\n",
              "<tbody>\n",
              "\t<tr><td>C10-KU50-D035-t09-CV02_04-W02_06-01</td><td>1</td><td>35</td><td>KcH</td><td>2.30</td><td>0</td><td>0</td><td>0.75</td><td>1.90</td><td>18.03</td><td>0.29</td><td>0</td><td>0</td><td>0</td></tr>\n",
              "\t<tr><td>C10-KU50-D035-t09-CV02_04-W02_06-02</td><td>1</td><td>35</td><td>KcH</td><td>2.94</td><td>0</td><td>0</td><td>0.93</td><td>1.83</td><td>15.25</td><td>0.21</td><td>0</td><td>0</td><td>0</td></tr>\n",
              "\t<tr><td>C10-KU50-D035-t09-CV02_04-W02_06-03</td><td>1</td><td>35</td><td>KcH</td><td>2.29</td><td>0</td><td>0</td><td>0.67</td><td>1.54</td><td>18.87</td><td>0.42</td><td>0</td><td>0</td><td>0</td></tr>\n",
              "\t<tr><td>C10-KU50-D035-t09-CV02_04-W02_06-04</td><td>1</td><td>35</td><td>KcH</td><td>4.10</td><td>0</td><td>0</td><td>1.31</td><td>2.08</td><td>18.50</td><td>0.32</td><td>0</td><td>0</td><td>0</td></tr>\n",
              "\t<tr><td>C10-KU50-D062-t09-CV02_04-W02_06-01</td><td>2</td><td>62</td><td>KcH</td><td>8.65</td><td>0</td><td>0</td><td>2.49</td><td>5.48</td><td>20.21</td><td>4.54</td><td>0</td><td>0</td><td>0</td></tr>\n",
              "\t<tr><td>C10-KU50-D062-t09-CV02_04-W02_06-02</td><td>2</td><td>62</td><td>KcH</td><td>8.14</td><td>0</td><td>0</td><td>2.40</td><td>5.51</td><td>21.78</td><td>2.08</td><td>0</td><td>0</td><td>0</td></tr>\n",
              "</tbody>\n",
              "</table>\n"
            ]
          },
          "metadata": {
            "tags": []
          }
        }
      ]
    },
    {
      "cell_type": "markdown",
      "metadata": {
        "id": "VBCe9M9CAL9D"
      },
      "source": [
        "## 3. Change `Condition` and `Age_MAP` variables to categorical data using `mutate()` and `factor()`"
      ]
    },
    {
      "cell_type": "code",
      "metadata": {
        "colab": {
          "base_uri": "https://localhost:8080/",
          "height": 385
        },
        "id": "roSwit-hAT4U",
        "outputId": "836fc859-5802-4ffd-850a-ab43aa3cb93f"
      },
      "source": [
        "tbl_physio <- mutate(tbl_physio, Condition = factor(Condition, level=c(\"KcH\", \"KcN\", \"KcL\")))\r\n",
        "tbl_physio <- mutate(tbl_physio, Age_MAP = factor(Age_MAP))\r\n",
        "head(tbl_physio)"
      ],
      "execution_count": 3,
      "outputs": [
        {
          "output_type": "display_data",
          "data": {
            "text/plain": [
              "  Sample                              Age_MAP Age_DAP Condition Mature_leaf\n",
              "1 C10-KU50-D035-t09-CV02_04-W02_06-01 1       35      KcH       2.30       \n",
              "2 C10-KU50-D035-t09-CV02_04-W02_06-02 1       35      KcH       2.94       \n",
              "3 C10-KU50-D035-t09-CV02_04-W02_06-03 1       35      KcH       2.29       \n",
              "4 C10-KU50-D035-t09-CV02_04-W02_06-04 1       35      KcH       4.10       \n",
              "5 C10-KU50-D062-t09-CV02_04-W02_06-01 2       62      KcH       8.65       \n",
              "6 C10-KU50-D062-t09-CV02_04-W02_06-02 2       62      KcH       8.14       \n",
              "  Senescence_leaf Reproductive_part Petiole Stem Stem_cutting Fibrous_root\n",
              "1 0               0                 0.75    1.90 18.03        0.29        \n",
              "2 0               0                 0.93    1.83 15.25        0.21        \n",
              "3 0               0                 0.67    1.54 18.87        0.42        \n",
              "4 0               0                 1.31    2.08 18.50        0.32        \n",
              "5 0               0                 2.49    5.48 20.21        4.54        \n",
              "6 0               0                 2.40    5.51 21.78        2.08        \n",
              "  Lateral_root Intermediate_root Storage_root\n",
              "1 0            0                 0           \n",
              "2 0            0                 0           \n",
              "3 0            0                 0           \n",
              "4 0            0                 0           \n",
              "5 0            0                 0           \n",
              "6 0            0                 0           "
            ],
            "text/latex": "A tibble: 6 × 14\n\\begin{tabular}{llllllllllllll}\n Sample & Age\\_MAP & Age\\_DAP & Condition & Mature\\_leaf & Senescence\\_leaf & Reproductive\\_part & Petiole & Stem & Stem\\_cutting & Fibrous\\_root & Lateral\\_root & Intermediate\\_root & Storage\\_root\\\\\n <chr> & <fct> & <dbl> & <fct> & <dbl> & <dbl> & <dbl> & <dbl> & <dbl> & <dbl> & <dbl> & <dbl> & <dbl> & <dbl>\\\\\n\\hline\n\t C10-KU50-D035-t09-CV02\\_04-W02\\_06-01 & 1 & 35 & KcH & 2.30 & 0 & 0 & 0.75 & 1.90 & 18.03 & 0.29 & 0 & 0 & 0\\\\\n\t C10-KU50-D035-t09-CV02\\_04-W02\\_06-02 & 1 & 35 & KcH & 2.94 & 0 & 0 & 0.93 & 1.83 & 15.25 & 0.21 & 0 & 0 & 0\\\\\n\t C10-KU50-D035-t09-CV02\\_04-W02\\_06-03 & 1 & 35 & KcH & 2.29 & 0 & 0 & 0.67 & 1.54 & 18.87 & 0.42 & 0 & 0 & 0\\\\\n\t C10-KU50-D035-t09-CV02\\_04-W02\\_06-04 & 1 & 35 & KcH & 4.10 & 0 & 0 & 1.31 & 2.08 & 18.50 & 0.32 & 0 & 0 & 0\\\\\n\t C10-KU50-D062-t09-CV02\\_04-W02\\_06-01 & 2 & 62 & KcH & 8.65 & 0 & 0 & 2.49 & 5.48 & 20.21 & 4.54 & 0 & 0 & 0\\\\\n\t C10-KU50-D062-t09-CV02\\_04-W02\\_06-02 & 2 & 62 & KcH & 8.14 & 0 & 0 & 2.40 & 5.51 & 21.78 & 2.08 & 0 & 0 & 0\\\\\n\\end{tabular}\n",
            "text/markdown": "\nA tibble: 6 × 14\n\n| Sample &lt;chr&gt; | Age_MAP &lt;fct&gt; | Age_DAP &lt;dbl&gt; | Condition &lt;fct&gt; | Mature_leaf &lt;dbl&gt; | Senescence_leaf &lt;dbl&gt; | Reproductive_part &lt;dbl&gt; | Petiole &lt;dbl&gt; | Stem &lt;dbl&gt; | Stem_cutting &lt;dbl&gt; | Fibrous_root &lt;dbl&gt; | Lateral_root &lt;dbl&gt; | Intermediate_root &lt;dbl&gt; | Storage_root &lt;dbl&gt; |\n|---|---|---|---|---|---|---|---|---|---|---|---|---|---|\n| C10-KU50-D035-t09-CV02_04-W02_06-01 | 1 | 35 | KcH | 2.30 | 0 | 0 | 0.75 | 1.90 | 18.03 | 0.29 | 0 | 0 | 0 |\n| C10-KU50-D035-t09-CV02_04-W02_06-02 | 1 | 35 | KcH | 2.94 | 0 | 0 | 0.93 | 1.83 | 15.25 | 0.21 | 0 | 0 | 0 |\n| C10-KU50-D035-t09-CV02_04-W02_06-03 | 1 | 35 | KcH | 2.29 | 0 | 0 | 0.67 | 1.54 | 18.87 | 0.42 | 0 | 0 | 0 |\n| C10-KU50-D035-t09-CV02_04-W02_06-04 | 1 | 35 | KcH | 4.10 | 0 | 0 | 1.31 | 2.08 | 18.50 | 0.32 | 0 | 0 | 0 |\n| C10-KU50-D062-t09-CV02_04-W02_06-01 | 2 | 62 | KcH | 8.65 | 0 | 0 | 2.49 | 5.48 | 20.21 | 4.54 | 0 | 0 | 0 |\n| C10-KU50-D062-t09-CV02_04-W02_06-02 | 2 | 62 | KcH | 8.14 | 0 | 0 | 2.40 | 5.51 | 21.78 | 2.08 | 0 | 0 | 0 |\n\n",
            "text/html": [
              "<table class=\"dataframe\">\n",
              "<caption>A tibble: 6 × 14</caption>\n",
              "<thead>\n",
              "\t<tr><th scope=col>Sample</th><th scope=col>Age_MAP</th><th scope=col>Age_DAP</th><th scope=col>Condition</th><th scope=col>Mature_leaf</th><th scope=col>Senescence_leaf</th><th scope=col>Reproductive_part</th><th scope=col>Petiole</th><th scope=col>Stem</th><th scope=col>Stem_cutting</th><th scope=col>Fibrous_root</th><th scope=col>Lateral_root</th><th scope=col>Intermediate_root</th><th scope=col>Storage_root</th></tr>\n",
              "\t<tr><th scope=col>&lt;chr&gt;</th><th scope=col>&lt;fct&gt;</th><th scope=col>&lt;dbl&gt;</th><th scope=col>&lt;fct&gt;</th><th scope=col>&lt;dbl&gt;</th><th scope=col>&lt;dbl&gt;</th><th scope=col>&lt;dbl&gt;</th><th scope=col>&lt;dbl&gt;</th><th scope=col>&lt;dbl&gt;</th><th scope=col>&lt;dbl&gt;</th><th scope=col>&lt;dbl&gt;</th><th scope=col>&lt;dbl&gt;</th><th scope=col>&lt;dbl&gt;</th><th scope=col>&lt;dbl&gt;</th></tr>\n",
              "</thead>\n",
              "<tbody>\n",
              "\t<tr><td>C10-KU50-D035-t09-CV02_04-W02_06-01</td><td>1</td><td>35</td><td>KcH</td><td>2.30</td><td>0</td><td>0</td><td>0.75</td><td>1.90</td><td>18.03</td><td>0.29</td><td>0</td><td>0</td><td>0</td></tr>\n",
              "\t<tr><td>C10-KU50-D035-t09-CV02_04-W02_06-02</td><td>1</td><td>35</td><td>KcH</td><td>2.94</td><td>0</td><td>0</td><td>0.93</td><td>1.83</td><td>15.25</td><td>0.21</td><td>0</td><td>0</td><td>0</td></tr>\n",
              "\t<tr><td>C10-KU50-D035-t09-CV02_04-W02_06-03</td><td>1</td><td>35</td><td>KcH</td><td>2.29</td><td>0</td><td>0</td><td>0.67</td><td>1.54</td><td>18.87</td><td>0.42</td><td>0</td><td>0</td><td>0</td></tr>\n",
              "\t<tr><td>C10-KU50-D035-t09-CV02_04-W02_06-04</td><td>1</td><td>35</td><td>KcH</td><td>4.10</td><td>0</td><td>0</td><td>1.31</td><td>2.08</td><td>18.50</td><td>0.32</td><td>0</td><td>0</td><td>0</td></tr>\n",
              "\t<tr><td>C10-KU50-D062-t09-CV02_04-W02_06-01</td><td>2</td><td>62</td><td>KcH</td><td>8.65</td><td>0</td><td>0</td><td>2.49</td><td>5.48</td><td>20.21</td><td>4.54</td><td>0</td><td>0</td><td>0</td></tr>\n",
              "\t<tr><td>C10-KU50-D062-t09-CV02_04-W02_06-02</td><td>2</td><td>62</td><td>KcH</td><td>8.14</td><td>0</td><td>0</td><td>2.40</td><td>5.51</td><td>21.78</td><td>2.08</td><td>0</td><td>0</td><td>0</td></tr>\n",
              "</tbody>\n",
              "</table>\n"
            ]
          },
          "metadata": {
            "tags": []
          }
        }
      ]
    },
    {
      "cell_type": "markdown",
      "metadata": {
        "id": "Ka0LUr9vAZSt"
      },
      "source": [
        "## 4. Remove `Senescence_leaf`, `Reproductive_part`, and `Lateral_root` column using `select()`"
      ]
    },
    {
      "cell_type": "code",
      "metadata": {
        "colab": {
          "base_uri": "https://localhost:8080/",
          "height": 283
        },
        "id": "0V2RA0YiAcaK",
        "outputId": "619e31b4-d921-4fef-c582-0520b77f6888"
      },
      "source": [
        "tbl_physio <- select(tbl_physio, -c(Senescence_leaf, Reproductive_part, Lateral_root))\r\n",
        "head(tbl_physio)"
      ],
      "execution_count": 4,
      "outputs": [
        {
          "output_type": "display_data",
          "data": {
            "text/plain": [
              "  Sample                              Age_MAP Age_DAP Condition Mature_leaf\n",
              "1 C10-KU50-D035-t09-CV02_04-W02_06-01 1       35      KcH       2.30       \n",
              "2 C10-KU50-D035-t09-CV02_04-W02_06-02 1       35      KcH       2.94       \n",
              "3 C10-KU50-D035-t09-CV02_04-W02_06-03 1       35      KcH       2.29       \n",
              "4 C10-KU50-D035-t09-CV02_04-W02_06-04 1       35      KcH       4.10       \n",
              "5 C10-KU50-D062-t09-CV02_04-W02_06-01 2       62      KcH       8.65       \n",
              "6 C10-KU50-D062-t09-CV02_04-W02_06-02 2       62      KcH       8.14       \n",
              "  Petiole Stem Stem_cutting Fibrous_root Intermediate_root Storage_root\n",
              "1 0.75    1.90 18.03        0.29         0                 0           \n",
              "2 0.93    1.83 15.25        0.21         0                 0           \n",
              "3 0.67    1.54 18.87        0.42         0                 0           \n",
              "4 1.31    2.08 18.50        0.32         0                 0           \n",
              "5 2.49    5.48 20.21        4.54         0                 0           \n",
              "6 2.40    5.51 21.78        2.08         0                 0           "
            ],
            "text/latex": "A tibble: 6 × 11\n\\begin{tabular}{lllllllllll}\n Sample & Age\\_MAP & Age\\_DAP & Condition & Mature\\_leaf & Petiole & Stem & Stem\\_cutting & Fibrous\\_root & Intermediate\\_root & Storage\\_root\\\\\n <chr> & <fct> & <dbl> & <fct> & <dbl> & <dbl> & <dbl> & <dbl> & <dbl> & <dbl> & <dbl>\\\\\n\\hline\n\t C10-KU50-D035-t09-CV02\\_04-W02\\_06-01 & 1 & 35 & KcH & 2.30 & 0.75 & 1.90 & 18.03 & 0.29 & 0 & 0\\\\\n\t C10-KU50-D035-t09-CV02\\_04-W02\\_06-02 & 1 & 35 & KcH & 2.94 & 0.93 & 1.83 & 15.25 & 0.21 & 0 & 0\\\\\n\t C10-KU50-D035-t09-CV02\\_04-W02\\_06-03 & 1 & 35 & KcH & 2.29 & 0.67 & 1.54 & 18.87 & 0.42 & 0 & 0\\\\\n\t C10-KU50-D035-t09-CV02\\_04-W02\\_06-04 & 1 & 35 & KcH & 4.10 & 1.31 & 2.08 & 18.50 & 0.32 & 0 & 0\\\\\n\t C10-KU50-D062-t09-CV02\\_04-W02\\_06-01 & 2 & 62 & KcH & 8.65 & 2.49 & 5.48 & 20.21 & 4.54 & 0 & 0\\\\\n\t C10-KU50-D062-t09-CV02\\_04-W02\\_06-02 & 2 & 62 & KcH & 8.14 & 2.40 & 5.51 & 21.78 & 2.08 & 0 & 0\\\\\n\\end{tabular}\n",
            "text/markdown": "\nA tibble: 6 × 11\n\n| Sample &lt;chr&gt; | Age_MAP &lt;fct&gt; | Age_DAP &lt;dbl&gt; | Condition &lt;fct&gt; | Mature_leaf &lt;dbl&gt; | Petiole &lt;dbl&gt; | Stem &lt;dbl&gt; | Stem_cutting &lt;dbl&gt; | Fibrous_root &lt;dbl&gt; | Intermediate_root &lt;dbl&gt; | Storage_root &lt;dbl&gt; |\n|---|---|---|---|---|---|---|---|---|---|---|\n| C10-KU50-D035-t09-CV02_04-W02_06-01 | 1 | 35 | KcH | 2.30 | 0.75 | 1.90 | 18.03 | 0.29 | 0 | 0 |\n| C10-KU50-D035-t09-CV02_04-W02_06-02 | 1 | 35 | KcH | 2.94 | 0.93 | 1.83 | 15.25 | 0.21 | 0 | 0 |\n| C10-KU50-D035-t09-CV02_04-W02_06-03 | 1 | 35 | KcH | 2.29 | 0.67 | 1.54 | 18.87 | 0.42 | 0 | 0 |\n| C10-KU50-D035-t09-CV02_04-W02_06-04 | 1 | 35 | KcH | 4.10 | 1.31 | 2.08 | 18.50 | 0.32 | 0 | 0 |\n| C10-KU50-D062-t09-CV02_04-W02_06-01 | 2 | 62 | KcH | 8.65 | 2.49 | 5.48 | 20.21 | 4.54 | 0 | 0 |\n| C10-KU50-D062-t09-CV02_04-W02_06-02 | 2 | 62 | KcH | 8.14 | 2.40 | 5.51 | 21.78 | 2.08 | 0 | 0 |\n\n",
            "text/html": [
              "<table class=\"dataframe\">\n",
              "<caption>A tibble: 6 × 11</caption>\n",
              "<thead>\n",
              "\t<tr><th scope=col>Sample</th><th scope=col>Age_MAP</th><th scope=col>Age_DAP</th><th scope=col>Condition</th><th scope=col>Mature_leaf</th><th scope=col>Petiole</th><th scope=col>Stem</th><th scope=col>Stem_cutting</th><th scope=col>Fibrous_root</th><th scope=col>Intermediate_root</th><th scope=col>Storage_root</th></tr>\n",
              "\t<tr><th scope=col>&lt;chr&gt;</th><th scope=col>&lt;fct&gt;</th><th scope=col>&lt;dbl&gt;</th><th scope=col>&lt;fct&gt;</th><th scope=col>&lt;dbl&gt;</th><th scope=col>&lt;dbl&gt;</th><th scope=col>&lt;dbl&gt;</th><th scope=col>&lt;dbl&gt;</th><th scope=col>&lt;dbl&gt;</th><th scope=col>&lt;dbl&gt;</th><th scope=col>&lt;dbl&gt;</th></tr>\n",
              "</thead>\n",
              "<tbody>\n",
              "\t<tr><td>C10-KU50-D035-t09-CV02_04-W02_06-01</td><td>1</td><td>35</td><td>KcH</td><td>2.30</td><td>0.75</td><td>1.90</td><td>18.03</td><td>0.29</td><td>0</td><td>0</td></tr>\n",
              "\t<tr><td>C10-KU50-D035-t09-CV02_04-W02_06-02</td><td>1</td><td>35</td><td>KcH</td><td>2.94</td><td>0.93</td><td>1.83</td><td>15.25</td><td>0.21</td><td>0</td><td>0</td></tr>\n",
              "\t<tr><td>C10-KU50-D035-t09-CV02_04-W02_06-03</td><td>1</td><td>35</td><td>KcH</td><td>2.29</td><td>0.67</td><td>1.54</td><td>18.87</td><td>0.42</td><td>0</td><td>0</td></tr>\n",
              "\t<tr><td>C10-KU50-D035-t09-CV02_04-W02_06-04</td><td>1</td><td>35</td><td>KcH</td><td>4.10</td><td>1.31</td><td>2.08</td><td>18.50</td><td>0.32</td><td>0</td><td>0</td></tr>\n",
              "\t<tr><td>C10-KU50-D062-t09-CV02_04-W02_06-01</td><td>2</td><td>62</td><td>KcH</td><td>8.65</td><td>2.49</td><td>5.48</td><td>20.21</td><td>4.54</td><td>0</td><td>0</td></tr>\n",
              "\t<tr><td>C10-KU50-D062-t09-CV02_04-W02_06-02</td><td>2</td><td>62</td><td>KcH</td><td>8.14</td><td>2.40</td><td>5.51</td><td>21.78</td><td>2.08</td><td>0</td><td>0</td></tr>\n",
              "</tbody>\n",
              "</table>\n"
            ]
          },
          "metadata": {
            "tags": []
          }
        }
      ]
    },
    {
      "cell_type": "markdown",
      "metadata": {
        "id": "2DJ7zfZFAfwD"
      },
      "source": [
        "## 5. Reshape `df_physio` from wider to longer format using `grater()` where `key=\"Tissue\"` and `value = \"Dry_weight\"`"
      ]
    },
    {
      "cell_type": "code",
      "metadata": {
        "colab": {
          "base_uri": "https://localhost:8080/",
          "height": 283
        },
        "id": "31Eqa8dAAiI0",
        "outputId": "394aaa94-1c31-4801-f690-aa4a7393805b"
      },
      "source": [
        "tbl_physio <- gather(tbl_physio, Mature_leaf:Storage_root, key=\"Tissue\", value = \"Dry_weight\")\r\n",
        "head(tbl_physio)"
      ],
      "execution_count": 5,
      "outputs": [
        {
          "output_type": "display_data",
          "data": {
            "text/plain": [
              "  Sample                              Age_MAP Age_DAP Condition Tissue     \n",
              "1 C10-KU50-D035-t09-CV02_04-W02_06-01 1       35      KcH       Mature_leaf\n",
              "2 C10-KU50-D035-t09-CV02_04-W02_06-02 1       35      KcH       Mature_leaf\n",
              "3 C10-KU50-D035-t09-CV02_04-W02_06-03 1       35      KcH       Mature_leaf\n",
              "4 C10-KU50-D035-t09-CV02_04-W02_06-04 1       35      KcH       Mature_leaf\n",
              "5 C10-KU50-D062-t09-CV02_04-W02_06-01 2       62      KcH       Mature_leaf\n",
              "6 C10-KU50-D062-t09-CV02_04-W02_06-02 2       62      KcH       Mature_leaf\n",
              "  Dry_weight\n",
              "1 2.30      \n",
              "2 2.94      \n",
              "3 2.29      \n",
              "4 4.10      \n",
              "5 8.65      \n",
              "6 8.14      "
            ],
            "text/latex": "A tibble: 6 × 6\n\\begin{tabular}{llllll}\n Sample & Age\\_MAP & Age\\_DAP & Condition & Tissue & Dry\\_weight\\\\\n <chr> & <fct> & <dbl> & <fct> & <chr> & <dbl>\\\\\n\\hline\n\t C10-KU50-D035-t09-CV02\\_04-W02\\_06-01 & 1 & 35 & KcH & Mature\\_leaf & 2.30\\\\\n\t C10-KU50-D035-t09-CV02\\_04-W02\\_06-02 & 1 & 35 & KcH & Mature\\_leaf & 2.94\\\\\n\t C10-KU50-D035-t09-CV02\\_04-W02\\_06-03 & 1 & 35 & KcH & Mature\\_leaf & 2.29\\\\\n\t C10-KU50-D035-t09-CV02\\_04-W02\\_06-04 & 1 & 35 & KcH & Mature\\_leaf & 4.10\\\\\n\t C10-KU50-D062-t09-CV02\\_04-W02\\_06-01 & 2 & 62 & KcH & Mature\\_leaf & 8.65\\\\\n\t C10-KU50-D062-t09-CV02\\_04-W02\\_06-02 & 2 & 62 & KcH & Mature\\_leaf & 8.14\\\\\n\\end{tabular}\n",
            "text/markdown": "\nA tibble: 6 × 6\n\n| Sample &lt;chr&gt; | Age_MAP &lt;fct&gt; | Age_DAP &lt;dbl&gt; | Condition &lt;fct&gt; | Tissue &lt;chr&gt; | Dry_weight &lt;dbl&gt; |\n|---|---|---|---|---|---|\n| C10-KU50-D035-t09-CV02_04-W02_06-01 | 1 | 35 | KcH | Mature_leaf | 2.30 |\n| C10-KU50-D035-t09-CV02_04-W02_06-02 | 1 | 35 | KcH | Mature_leaf | 2.94 |\n| C10-KU50-D035-t09-CV02_04-W02_06-03 | 1 | 35 | KcH | Mature_leaf | 2.29 |\n| C10-KU50-D035-t09-CV02_04-W02_06-04 | 1 | 35 | KcH | Mature_leaf | 4.10 |\n| C10-KU50-D062-t09-CV02_04-W02_06-01 | 2 | 62 | KcH | Mature_leaf | 8.65 |\n| C10-KU50-D062-t09-CV02_04-W02_06-02 | 2 | 62 | KcH | Mature_leaf | 8.14 |\n\n",
            "text/html": [
              "<table class=\"dataframe\">\n",
              "<caption>A tibble: 6 × 6</caption>\n",
              "<thead>\n",
              "\t<tr><th scope=col>Sample</th><th scope=col>Age_MAP</th><th scope=col>Age_DAP</th><th scope=col>Condition</th><th scope=col>Tissue</th><th scope=col>Dry_weight</th></tr>\n",
              "\t<tr><th scope=col>&lt;chr&gt;</th><th scope=col>&lt;fct&gt;</th><th scope=col>&lt;dbl&gt;</th><th scope=col>&lt;fct&gt;</th><th scope=col>&lt;chr&gt;</th><th scope=col>&lt;dbl&gt;</th></tr>\n",
              "</thead>\n",
              "<tbody>\n",
              "\t<tr><td>C10-KU50-D035-t09-CV02_04-W02_06-01</td><td>1</td><td>35</td><td>KcH</td><td>Mature_leaf</td><td>2.30</td></tr>\n",
              "\t<tr><td>C10-KU50-D035-t09-CV02_04-W02_06-02</td><td>1</td><td>35</td><td>KcH</td><td>Mature_leaf</td><td>2.94</td></tr>\n",
              "\t<tr><td>C10-KU50-D035-t09-CV02_04-W02_06-03</td><td>1</td><td>35</td><td>KcH</td><td>Mature_leaf</td><td>2.29</td></tr>\n",
              "\t<tr><td>C10-KU50-D035-t09-CV02_04-W02_06-04</td><td>1</td><td>35</td><td>KcH</td><td>Mature_leaf</td><td>4.10</td></tr>\n",
              "\t<tr><td>C10-KU50-D062-t09-CV02_04-W02_06-01</td><td>2</td><td>62</td><td>KcH</td><td>Mature_leaf</td><td>8.65</td></tr>\n",
              "\t<tr><td>C10-KU50-D062-t09-CV02_04-W02_06-02</td><td>2</td><td>62</td><td>KcH</td><td>Mature_leaf</td><td>8.14</td></tr>\n",
              "</tbody>\n",
              "</table>\n"
            ]
          },
          "metadata": {
            "tags": []
          }
        }
      ]
    },
    {
      "cell_type": "markdown",
      "metadata": {
        "id": "fDffg7wwAkxy"
      },
      "source": [
        "## 6. Filter df_physio  where `tissue==\"Storage_root\"` and `Age_DAP==6` using `filter()` and pipe `%>%` without saving"
      ]
    },
    {
      "cell_type": "code",
      "metadata": {
        "colab": {
          "base_uri": "https://localhost:8080/",
          "height": 921
        },
        "id": "tUClrdYgApAV",
        "outputId": "5f13a5f1-7570-4f42-eea3-37df0fbe8858"
      },
      "source": [
        "# Writing using general function\r\n",
        "filter(tbl_physio, Tissue == \"Storage_root\", Age_MAP == 6)\r\n",
        "\r\n",
        "# Writing using pipe\r\n",
        "tbl_physio %>%\r\n",
        "  filter(Tissue == \"Storage_root\",\r\n",
        "         Age_MAP == 6) "
      ],
      "execution_count": 6,
      "outputs": [
        {
          "output_type": "display_data",
          "data": {
            "text/plain": [
              "   Sample                              Age_MAP Age_DAP Condition Tissue      \n",
              "1  C10-KU50-D181-t09-CV02_04-W02_06-01 6       181     KcH       Storage_root\n",
              "2  C10-KU50-D181-t09-CV02_04-W02_06-02 6       181     KcH       Storage_root\n",
              "3  C10-KU50-D181-t09-CV02_04-W02_06-03 6       181     KcH       Storage_root\n",
              "4  C10-KU50-D181-t09-CV02_04-W02_06-04 6       181     KcH       Storage_root\n",
              "5  C10-KU50-D181-t09-CV02_04-W02_07-01 6       181     KcN       Storage_root\n",
              "6  C10-KU50-D181-t09-CV02_04-W02_07-02 6       181     KcN       Storage_root\n",
              "7  C10-KU50-D181-t09-CV02_04-W02_07-03 6       181     KcN       Storage_root\n",
              "8  C10-KU50-D181-t09-CV02_04-W02_07-04 6       181     KcN       Storage_root\n",
              "9  C10-KU50-D181-t09-CV02_04-W02_08-01 6       181     KcL       Storage_root\n",
              "10 C10-KU50-D181-t09-CV02_04-W02_08-02 6       181     KcL       Storage_root\n",
              "11 C10-KU50-D181-t09-CV02_04-W02_08-03 6       181     KcL       Storage_root\n",
              "12 C10-KU50-D181-t09-CV02_04-W02_08-04 6       181     KcL       Storage_root\n",
              "   Dry_weight\n",
              "1   667.46   \n",
              "2   440.43   \n",
              "3   723.97   \n",
              "4   576.13   \n",
              "5   601.11   \n",
              "6   662.41   \n",
              "7   900.97   \n",
              "8   802.09   \n",
              "9   964.23   \n",
              "10  957.42   \n",
              "11 1059.33   \n",
              "12  942.22   "
            ],
            "text/latex": "A tibble: 12 × 6\n\\begin{tabular}{llllll}\n Sample & Age\\_MAP & Age\\_DAP & Condition & Tissue & Dry\\_weight\\\\\n <chr> & <fct> & <dbl> & <fct> & <chr> & <dbl>\\\\\n\\hline\n\t C10-KU50-D181-t09-CV02\\_04-W02\\_06-01 & 6 & 181 & KcH & Storage\\_root &  667.46\\\\\n\t C10-KU50-D181-t09-CV02\\_04-W02\\_06-02 & 6 & 181 & KcH & Storage\\_root &  440.43\\\\\n\t C10-KU50-D181-t09-CV02\\_04-W02\\_06-03 & 6 & 181 & KcH & Storage\\_root &  723.97\\\\\n\t C10-KU50-D181-t09-CV02\\_04-W02\\_06-04 & 6 & 181 & KcH & Storage\\_root &  576.13\\\\\n\t C10-KU50-D181-t09-CV02\\_04-W02\\_07-01 & 6 & 181 & KcN & Storage\\_root &  601.11\\\\\n\t C10-KU50-D181-t09-CV02\\_04-W02\\_07-02 & 6 & 181 & KcN & Storage\\_root &  662.41\\\\\n\t C10-KU50-D181-t09-CV02\\_04-W02\\_07-03 & 6 & 181 & KcN & Storage\\_root &  900.97\\\\\n\t C10-KU50-D181-t09-CV02\\_04-W02\\_07-04 & 6 & 181 & KcN & Storage\\_root &  802.09\\\\\n\t C10-KU50-D181-t09-CV02\\_04-W02\\_08-01 & 6 & 181 & KcL & Storage\\_root &  964.23\\\\\n\t C10-KU50-D181-t09-CV02\\_04-W02\\_08-02 & 6 & 181 & KcL & Storage\\_root &  957.42\\\\\n\t C10-KU50-D181-t09-CV02\\_04-W02\\_08-03 & 6 & 181 & KcL & Storage\\_root & 1059.33\\\\\n\t C10-KU50-D181-t09-CV02\\_04-W02\\_08-04 & 6 & 181 & KcL & Storage\\_root &  942.22\\\\\n\\end{tabular}\n",
            "text/markdown": "\nA tibble: 12 × 6\n\n| Sample &lt;chr&gt; | Age_MAP &lt;fct&gt; | Age_DAP &lt;dbl&gt; | Condition &lt;fct&gt; | Tissue &lt;chr&gt; | Dry_weight &lt;dbl&gt; |\n|---|---|---|---|---|---|\n| C10-KU50-D181-t09-CV02_04-W02_06-01 | 6 | 181 | KcH | Storage_root |  667.46 |\n| C10-KU50-D181-t09-CV02_04-W02_06-02 | 6 | 181 | KcH | Storage_root |  440.43 |\n| C10-KU50-D181-t09-CV02_04-W02_06-03 | 6 | 181 | KcH | Storage_root |  723.97 |\n| C10-KU50-D181-t09-CV02_04-W02_06-04 | 6 | 181 | KcH | Storage_root |  576.13 |\n| C10-KU50-D181-t09-CV02_04-W02_07-01 | 6 | 181 | KcN | Storage_root |  601.11 |\n| C10-KU50-D181-t09-CV02_04-W02_07-02 | 6 | 181 | KcN | Storage_root |  662.41 |\n| C10-KU50-D181-t09-CV02_04-W02_07-03 | 6 | 181 | KcN | Storage_root |  900.97 |\n| C10-KU50-D181-t09-CV02_04-W02_07-04 | 6 | 181 | KcN | Storage_root |  802.09 |\n| C10-KU50-D181-t09-CV02_04-W02_08-01 | 6 | 181 | KcL | Storage_root |  964.23 |\n| C10-KU50-D181-t09-CV02_04-W02_08-02 | 6 | 181 | KcL | Storage_root |  957.42 |\n| C10-KU50-D181-t09-CV02_04-W02_08-03 | 6 | 181 | KcL | Storage_root | 1059.33 |\n| C10-KU50-D181-t09-CV02_04-W02_08-04 | 6 | 181 | KcL | Storage_root |  942.22 |\n\n",
            "text/html": [
              "<table class=\"dataframe\">\n",
              "<caption>A tibble: 12 × 6</caption>\n",
              "<thead>\n",
              "\t<tr><th scope=col>Sample</th><th scope=col>Age_MAP</th><th scope=col>Age_DAP</th><th scope=col>Condition</th><th scope=col>Tissue</th><th scope=col>Dry_weight</th></tr>\n",
              "\t<tr><th scope=col>&lt;chr&gt;</th><th scope=col>&lt;fct&gt;</th><th scope=col>&lt;dbl&gt;</th><th scope=col>&lt;fct&gt;</th><th scope=col>&lt;chr&gt;</th><th scope=col>&lt;dbl&gt;</th></tr>\n",
              "</thead>\n",
              "<tbody>\n",
              "\t<tr><td>C10-KU50-D181-t09-CV02_04-W02_06-01</td><td>6</td><td>181</td><td>KcH</td><td>Storage_root</td><td> 667.46</td></tr>\n",
              "\t<tr><td>C10-KU50-D181-t09-CV02_04-W02_06-02</td><td>6</td><td>181</td><td>KcH</td><td>Storage_root</td><td> 440.43</td></tr>\n",
              "\t<tr><td>C10-KU50-D181-t09-CV02_04-W02_06-03</td><td>6</td><td>181</td><td>KcH</td><td>Storage_root</td><td> 723.97</td></tr>\n",
              "\t<tr><td>C10-KU50-D181-t09-CV02_04-W02_06-04</td><td>6</td><td>181</td><td>KcH</td><td>Storage_root</td><td> 576.13</td></tr>\n",
              "\t<tr><td>C10-KU50-D181-t09-CV02_04-W02_07-01</td><td>6</td><td>181</td><td>KcN</td><td>Storage_root</td><td> 601.11</td></tr>\n",
              "\t<tr><td>C10-KU50-D181-t09-CV02_04-W02_07-02</td><td>6</td><td>181</td><td>KcN</td><td>Storage_root</td><td> 662.41</td></tr>\n",
              "\t<tr><td>C10-KU50-D181-t09-CV02_04-W02_07-03</td><td>6</td><td>181</td><td>KcN</td><td>Storage_root</td><td> 900.97</td></tr>\n",
              "\t<tr><td>C10-KU50-D181-t09-CV02_04-W02_07-04</td><td>6</td><td>181</td><td>KcN</td><td>Storage_root</td><td> 802.09</td></tr>\n",
              "\t<tr><td>C10-KU50-D181-t09-CV02_04-W02_08-01</td><td>6</td><td>181</td><td>KcL</td><td>Storage_root</td><td> 964.23</td></tr>\n",
              "\t<tr><td>C10-KU50-D181-t09-CV02_04-W02_08-02</td><td>6</td><td>181</td><td>KcL</td><td>Storage_root</td><td> 957.42</td></tr>\n",
              "\t<tr><td>C10-KU50-D181-t09-CV02_04-W02_08-03</td><td>6</td><td>181</td><td>KcL</td><td>Storage_root</td><td>1059.33</td></tr>\n",
              "\t<tr><td>C10-KU50-D181-t09-CV02_04-W02_08-04</td><td>6</td><td>181</td><td>KcL</td><td>Storage_root</td><td> 942.22</td></tr>\n",
              "</tbody>\n",
              "</table>\n"
            ]
          },
          "metadata": {
            "tags": []
          }
        },
        {
          "output_type": "display_data",
          "data": {
            "text/plain": [
              "   Sample                              Age_MAP Age_DAP Condition Tissue      \n",
              "1  C10-KU50-D181-t09-CV02_04-W02_06-01 6       181     KcH       Storage_root\n",
              "2  C10-KU50-D181-t09-CV02_04-W02_06-02 6       181     KcH       Storage_root\n",
              "3  C10-KU50-D181-t09-CV02_04-W02_06-03 6       181     KcH       Storage_root\n",
              "4  C10-KU50-D181-t09-CV02_04-W02_06-04 6       181     KcH       Storage_root\n",
              "5  C10-KU50-D181-t09-CV02_04-W02_07-01 6       181     KcN       Storage_root\n",
              "6  C10-KU50-D181-t09-CV02_04-W02_07-02 6       181     KcN       Storage_root\n",
              "7  C10-KU50-D181-t09-CV02_04-W02_07-03 6       181     KcN       Storage_root\n",
              "8  C10-KU50-D181-t09-CV02_04-W02_07-04 6       181     KcN       Storage_root\n",
              "9  C10-KU50-D181-t09-CV02_04-W02_08-01 6       181     KcL       Storage_root\n",
              "10 C10-KU50-D181-t09-CV02_04-W02_08-02 6       181     KcL       Storage_root\n",
              "11 C10-KU50-D181-t09-CV02_04-W02_08-03 6       181     KcL       Storage_root\n",
              "12 C10-KU50-D181-t09-CV02_04-W02_08-04 6       181     KcL       Storage_root\n",
              "   Dry_weight\n",
              "1   667.46   \n",
              "2   440.43   \n",
              "3   723.97   \n",
              "4   576.13   \n",
              "5   601.11   \n",
              "6   662.41   \n",
              "7   900.97   \n",
              "8   802.09   \n",
              "9   964.23   \n",
              "10  957.42   \n",
              "11 1059.33   \n",
              "12  942.22   "
            ],
            "text/latex": "A tibble: 12 × 6\n\\begin{tabular}{llllll}\n Sample & Age\\_MAP & Age\\_DAP & Condition & Tissue & Dry\\_weight\\\\\n <chr> & <fct> & <dbl> & <fct> & <chr> & <dbl>\\\\\n\\hline\n\t C10-KU50-D181-t09-CV02\\_04-W02\\_06-01 & 6 & 181 & KcH & Storage\\_root &  667.46\\\\\n\t C10-KU50-D181-t09-CV02\\_04-W02\\_06-02 & 6 & 181 & KcH & Storage\\_root &  440.43\\\\\n\t C10-KU50-D181-t09-CV02\\_04-W02\\_06-03 & 6 & 181 & KcH & Storage\\_root &  723.97\\\\\n\t C10-KU50-D181-t09-CV02\\_04-W02\\_06-04 & 6 & 181 & KcH & Storage\\_root &  576.13\\\\\n\t C10-KU50-D181-t09-CV02\\_04-W02\\_07-01 & 6 & 181 & KcN & Storage\\_root &  601.11\\\\\n\t C10-KU50-D181-t09-CV02\\_04-W02\\_07-02 & 6 & 181 & KcN & Storage\\_root &  662.41\\\\\n\t C10-KU50-D181-t09-CV02\\_04-W02\\_07-03 & 6 & 181 & KcN & Storage\\_root &  900.97\\\\\n\t C10-KU50-D181-t09-CV02\\_04-W02\\_07-04 & 6 & 181 & KcN & Storage\\_root &  802.09\\\\\n\t C10-KU50-D181-t09-CV02\\_04-W02\\_08-01 & 6 & 181 & KcL & Storage\\_root &  964.23\\\\\n\t C10-KU50-D181-t09-CV02\\_04-W02\\_08-02 & 6 & 181 & KcL & Storage\\_root &  957.42\\\\\n\t C10-KU50-D181-t09-CV02\\_04-W02\\_08-03 & 6 & 181 & KcL & Storage\\_root & 1059.33\\\\\n\t C10-KU50-D181-t09-CV02\\_04-W02\\_08-04 & 6 & 181 & KcL & Storage\\_root &  942.22\\\\\n\\end{tabular}\n",
            "text/markdown": "\nA tibble: 12 × 6\n\n| Sample &lt;chr&gt; | Age_MAP &lt;fct&gt; | Age_DAP &lt;dbl&gt; | Condition &lt;fct&gt; | Tissue &lt;chr&gt; | Dry_weight &lt;dbl&gt; |\n|---|---|---|---|---|---|\n| C10-KU50-D181-t09-CV02_04-W02_06-01 | 6 | 181 | KcH | Storage_root |  667.46 |\n| C10-KU50-D181-t09-CV02_04-W02_06-02 | 6 | 181 | KcH | Storage_root |  440.43 |\n| C10-KU50-D181-t09-CV02_04-W02_06-03 | 6 | 181 | KcH | Storage_root |  723.97 |\n| C10-KU50-D181-t09-CV02_04-W02_06-04 | 6 | 181 | KcH | Storage_root |  576.13 |\n| C10-KU50-D181-t09-CV02_04-W02_07-01 | 6 | 181 | KcN | Storage_root |  601.11 |\n| C10-KU50-D181-t09-CV02_04-W02_07-02 | 6 | 181 | KcN | Storage_root |  662.41 |\n| C10-KU50-D181-t09-CV02_04-W02_07-03 | 6 | 181 | KcN | Storage_root |  900.97 |\n| C10-KU50-D181-t09-CV02_04-W02_07-04 | 6 | 181 | KcN | Storage_root |  802.09 |\n| C10-KU50-D181-t09-CV02_04-W02_08-01 | 6 | 181 | KcL | Storage_root |  964.23 |\n| C10-KU50-D181-t09-CV02_04-W02_08-02 | 6 | 181 | KcL | Storage_root |  957.42 |\n| C10-KU50-D181-t09-CV02_04-W02_08-03 | 6 | 181 | KcL | Storage_root | 1059.33 |\n| C10-KU50-D181-t09-CV02_04-W02_08-04 | 6 | 181 | KcL | Storage_root |  942.22 |\n\n",
            "text/html": [
              "<table class=\"dataframe\">\n",
              "<caption>A tibble: 12 × 6</caption>\n",
              "<thead>\n",
              "\t<tr><th scope=col>Sample</th><th scope=col>Age_MAP</th><th scope=col>Age_DAP</th><th scope=col>Condition</th><th scope=col>Tissue</th><th scope=col>Dry_weight</th></tr>\n",
              "\t<tr><th scope=col>&lt;chr&gt;</th><th scope=col>&lt;fct&gt;</th><th scope=col>&lt;dbl&gt;</th><th scope=col>&lt;fct&gt;</th><th scope=col>&lt;chr&gt;</th><th scope=col>&lt;dbl&gt;</th></tr>\n",
              "</thead>\n",
              "<tbody>\n",
              "\t<tr><td>C10-KU50-D181-t09-CV02_04-W02_06-01</td><td>6</td><td>181</td><td>KcH</td><td>Storage_root</td><td> 667.46</td></tr>\n",
              "\t<tr><td>C10-KU50-D181-t09-CV02_04-W02_06-02</td><td>6</td><td>181</td><td>KcH</td><td>Storage_root</td><td> 440.43</td></tr>\n",
              "\t<tr><td>C10-KU50-D181-t09-CV02_04-W02_06-03</td><td>6</td><td>181</td><td>KcH</td><td>Storage_root</td><td> 723.97</td></tr>\n",
              "\t<tr><td>C10-KU50-D181-t09-CV02_04-W02_06-04</td><td>6</td><td>181</td><td>KcH</td><td>Storage_root</td><td> 576.13</td></tr>\n",
              "\t<tr><td>C10-KU50-D181-t09-CV02_04-W02_07-01</td><td>6</td><td>181</td><td>KcN</td><td>Storage_root</td><td> 601.11</td></tr>\n",
              "\t<tr><td>C10-KU50-D181-t09-CV02_04-W02_07-02</td><td>6</td><td>181</td><td>KcN</td><td>Storage_root</td><td> 662.41</td></tr>\n",
              "\t<tr><td>C10-KU50-D181-t09-CV02_04-W02_07-03</td><td>6</td><td>181</td><td>KcN</td><td>Storage_root</td><td> 900.97</td></tr>\n",
              "\t<tr><td>C10-KU50-D181-t09-CV02_04-W02_07-04</td><td>6</td><td>181</td><td>KcN</td><td>Storage_root</td><td> 802.09</td></tr>\n",
              "\t<tr><td>C10-KU50-D181-t09-CV02_04-W02_08-01</td><td>6</td><td>181</td><td>KcL</td><td>Storage_root</td><td> 964.23</td></tr>\n",
              "\t<tr><td>C10-KU50-D181-t09-CV02_04-W02_08-02</td><td>6</td><td>181</td><td>KcL</td><td>Storage_root</td><td> 957.42</td></tr>\n",
              "\t<tr><td>C10-KU50-D181-t09-CV02_04-W02_08-03</td><td>6</td><td>181</td><td>KcL</td><td>Storage_root</td><td>1059.33</td></tr>\n",
              "\t<tr><td>C10-KU50-D181-t09-CV02_04-W02_08-04</td><td>6</td><td>181</td><td>KcL</td><td>Storage_root</td><td> 942.22</td></tr>\n",
              "</tbody>\n",
              "</table>\n"
            ]
          },
          "metadata": {
            "tags": []
          }
        }
      ]
    },
    {
      "cell_type": "markdown",
      "metadata": {
        "id": "oFXuRj4IAsGP"
      },
      "source": [
        "## 7. Calculate median of dry weight in each `Condition`, `Age_MAP`, `Tissue` using `group_by()` and `summarise()` without saving"
      ]
    },
    {
      "cell_type": "code",
      "metadata": {
        "colab": {
          "base_uri": "https://localhost:8080/",
          "height": 1000
        },
        "id": "MZT21zsDAvVS",
        "outputId": "d6e426c6-1d42-4987-8bf8-7a6afb8abbf8"
      },
      "source": [
        "tbl_physio %>%\r\n",
        "  group_by(Age_MAP, Condition, Tissue) %>%\r\n",
        "  summarise(Median_dry_weight = median(Dry_weight))"
      ],
      "execution_count": 7,
      "outputs": [
        {
          "output_type": "stream",
          "text": [
            "`summarise()` has grouped output by 'Age_MAP', 'Condition'. You can override using the `.groups` argument.\n",
            "\n"
          ],
          "name": "stderr"
        },
        {
          "output_type": "display_data",
          "data": {
            "text/plain": [
              "    Age_MAP Condition Tissue            Median_dry_weight\n",
              "1   1       KcH       Fibrous_root       0.305           \n",
              "2   1       KcH       Intermediate_root  0.000           \n",
              "3   1       KcH       Mature_leaf        2.620           \n",
              "4   1       KcH       Petiole            0.840           \n",
              "5   1       KcH       Stem               1.865           \n",
              "6   1       KcH       Stem_cutting      18.265           \n",
              "7   1       KcH       Storage_root       0.000           \n",
              "8   1       KcN       Fibrous_root       0.305           \n",
              "9   1       KcN       Intermediate_root  0.000           \n",
              "10  1       KcN       Mature_leaf        3.595           \n",
              "11  1       KcN       Petiole            1.055           \n",
              "12  1       KcN       Stem               2.105           \n",
              "13  1       KcN       Stem_cutting      13.835           \n",
              "14  1       KcN       Storage_root       0.000           \n",
              "15  1       KcL       Fibrous_root       0.635           \n",
              "16  1       KcL       Intermediate_root  0.000           \n",
              "17  1       KcL       Mature_leaf        3.190           \n",
              "18  1       KcL       Petiole            0.940           \n",
              "19  1       KcL       Stem               1.895           \n",
              "20  1       KcL       Stem_cutting      20.655           \n",
              "21  1       KcL       Storage_root       0.000           \n",
              "22  2       KcH       Fibrous_root       3.015           \n",
              "23  2       KcH       Intermediate_root  0.000           \n",
              "24  2       KcH       Mature_leaf        7.825           \n",
              "25  2       KcH       Petiole            2.445           \n",
              "26  2       KcH       Stem               5.495           \n",
              "27  2       KcH       Stem_cutting      20.995           \n",
              "28  2       KcH       Storage_root       0.000           \n",
              "29  2       KcN       Fibrous_root       2.830           \n",
              "30  2       KcN       Intermediate_root  0.000           \n",
              "⋮   ⋮       ⋮         ⋮                 ⋮                \n",
              "97  5       KcN       Stem_cutting      101.195          \n",
              "98  5       KcN       Storage_root      548.265          \n",
              "99  5       KcL       Fibrous_root        2.755          \n",
              "100 5       KcL       Intermediate_root   3.220          \n",
              "101 5       KcL       Mature_leaf       173.365          \n",
              "102 5       KcL       Petiole            67.220          \n",
              "103 5       KcL       Stem              191.605          \n",
              "104 5       KcL       Stem_cutting      120.545          \n",
              "105 5       KcL       Storage_root      607.010          \n",
              "106 6       KcH       Fibrous_root        2.420          \n",
              "107 6       KcH       Intermediate_root   1.475          \n",
              "108 6       KcH       Mature_leaf       137.390          \n",
              "109 6       KcH       Petiole            71.355          \n",
              "110 6       KcH       Stem              278.910          \n",
              "111 6       KcH       Stem_cutting       91.230          \n",
              "112 6       KcH       Storage_root      621.795          \n",
              "113 6       KcN       Fibrous_root        2.015          \n",
              "114 6       KcN       Intermediate_root   1.200          \n",
              "115 6       KcN       Mature_leaf       138.925          \n",
              "116 6       KcN       Petiole            79.105          \n",
              "117 6       KcN       Stem              292.120          \n",
              "118 6       KcN       Stem_cutting      105.020          \n",
              "119 6       KcN       Storage_root      732.250          \n",
              "120 6       KcL       Fibrous_root        2.855          \n",
              "121 6       KcL       Intermediate_root   1.925          \n",
              "122 6       KcL       Mature_leaf       148.885          \n",
              "123 6       KcL       Petiole            85.815          \n",
              "124 6       KcL       Stem              291.645          \n",
              "125 6       KcL       Stem_cutting      125.105          \n",
              "126 6       KcL       Storage_root      960.825          "
            ],
            "text/latex": "A grouped\\_df: 126 × 4\n\\begin{tabular}{llll}\n Age\\_MAP & Condition & Tissue & Median\\_dry\\_weight\\\\\n <fct> & <fct> & <chr> & <dbl>\\\\\n\\hline\n\t 1 & KcH & Fibrous\\_root      &  0.305\\\\\n\t 1 & KcH & Intermediate\\_root &  0.000\\\\\n\t 1 & KcH & Mature\\_leaf       &  2.620\\\\\n\t 1 & KcH & Petiole           &  0.840\\\\\n\t 1 & KcH & Stem              &  1.865\\\\\n\t 1 & KcH & Stem\\_cutting      & 18.265\\\\\n\t 1 & KcH & Storage\\_root      &  0.000\\\\\n\t 1 & KcN & Fibrous\\_root      &  0.305\\\\\n\t 1 & KcN & Intermediate\\_root &  0.000\\\\\n\t 1 & KcN & Mature\\_leaf       &  3.595\\\\\n\t 1 & KcN & Petiole           &  1.055\\\\\n\t 1 & KcN & Stem              &  2.105\\\\\n\t 1 & KcN & Stem\\_cutting      & 13.835\\\\\n\t 1 & KcN & Storage\\_root      &  0.000\\\\\n\t 1 & KcL & Fibrous\\_root      &  0.635\\\\\n\t 1 & KcL & Intermediate\\_root &  0.000\\\\\n\t 1 & KcL & Mature\\_leaf       &  3.190\\\\\n\t 1 & KcL & Petiole           &  0.940\\\\\n\t 1 & KcL & Stem              &  1.895\\\\\n\t 1 & KcL & Stem\\_cutting      & 20.655\\\\\n\t 1 & KcL & Storage\\_root      &  0.000\\\\\n\t 2 & KcH & Fibrous\\_root      &  3.015\\\\\n\t 2 & KcH & Intermediate\\_root &  0.000\\\\\n\t 2 & KcH & Mature\\_leaf       &  7.825\\\\\n\t 2 & KcH & Petiole           &  2.445\\\\\n\t 2 & KcH & Stem              &  5.495\\\\\n\t 2 & KcH & Stem\\_cutting      & 20.995\\\\\n\t 2 & KcH & Storage\\_root      &  0.000\\\\\n\t 2 & KcN & Fibrous\\_root      &  2.830\\\\\n\t 2 & KcN & Intermediate\\_root &  0.000\\\\\n\t ⋮ & ⋮ & ⋮ & ⋮\\\\\n\t 5 & KcN & Stem\\_cutting      & 101.195\\\\\n\t 5 & KcN & Storage\\_root      & 548.265\\\\\n\t 5 & KcL & Fibrous\\_root      &   2.755\\\\\n\t 5 & KcL & Intermediate\\_root &   3.220\\\\\n\t 5 & KcL & Mature\\_leaf       & 173.365\\\\\n\t 5 & KcL & Petiole           &  67.220\\\\\n\t 5 & KcL & Stem              & 191.605\\\\\n\t 5 & KcL & Stem\\_cutting      & 120.545\\\\\n\t 5 & KcL & Storage\\_root      & 607.010\\\\\n\t 6 & KcH & Fibrous\\_root      &   2.420\\\\\n\t 6 & KcH & Intermediate\\_root &   1.475\\\\\n\t 6 & KcH & Mature\\_leaf       & 137.390\\\\\n\t 6 & KcH & Petiole           &  71.355\\\\\n\t 6 & KcH & Stem              & 278.910\\\\\n\t 6 & KcH & Stem\\_cutting      &  91.230\\\\\n\t 6 & KcH & Storage\\_root      & 621.795\\\\\n\t 6 & KcN & Fibrous\\_root      &   2.015\\\\\n\t 6 & KcN & Intermediate\\_root &   1.200\\\\\n\t 6 & KcN & Mature\\_leaf       & 138.925\\\\\n\t 6 & KcN & Petiole           &  79.105\\\\\n\t 6 & KcN & Stem              & 292.120\\\\\n\t 6 & KcN & Stem\\_cutting      & 105.020\\\\\n\t 6 & KcN & Storage\\_root      & 732.250\\\\\n\t 6 & KcL & Fibrous\\_root      &   2.855\\\\\n\t 6 & KcL & Intermediate\\_root &   1.925\\\\\n\t 6 & KcL & Mature\\_leaf       & 148.885\\\\\n\t 6 & KcL & Petiole           &  85.815\\\\\n\t 6 & KcL & Stem              & 291.645\\\\\n\t 6 & KcL & Stem\\_cutting      & 125.105\\\\\n\t 6 & KcL & Storage\\_root      & 960.825\\\\\n\\end{tabular}\n",
            "text/markdown": "\nA grouped_df: 126 × 4\n\n| Age_MAP &lt;fct&gt; | Condition &lt;fct&gt; | Tissue &lt;chr&gt; | Median_dry_weight &lt;dbl&gt; |\n|---|---|---|---|\n| 1 | KcH | Fibrous_root      |  0.305 |\n| 1 | KcH | Intermediate_root |  0.000 |\n| 1 | KcH | Mature_leaf       |  2.620 |\n| 1 | KcH | Petiole           |  0.840 |\n| 1 | KcH | Stem              |  1.865 |\n| 1 | KcH | Stem_cutting      | 18.265 |\n| 1 | KcH | Storage_root      |  0.000 |\n| 1 | KcN | Fibrous_root      |  0.305 |\n| 1 | KcN | Intermediate_root |  0.000 |\n| 1 | KcN | Mature_leaf       |  3.595 |\n| 1 | KcN | Petiole           |  1.055 |\n| 1 | KcN | Stem              |  2.105 |\n| 1 | KcN | Stem_cutting      | 13.835 |\n| 1 | KcN | Storage_root      |  0.000 |\n| 1 | KcL | Fibrous_root      |  0.635 |\n| 1 | KcL | Intermediate_root |  0.000 |\n| 1 | KcL | Mature_leaf       |  3.190 |\n| 1 | KcL | Petiole           |  0.940 |\n| 1 | KcL | Stem              |  1.895 |\n| 1 | KcL | Stem_cutting      | 20.655 |\n| 1 | KcL | Storage_root      |  0.000 |\n| 2 | KcH | Fibrous_root      |  3.015 |\n| 2 | KcH | Intermediate_root |  0.000 |\n| 2 | KcH | Mature_leaf       |  7.825 |\n| 2 | KcH | Petiole           |  2.445 |\n| 2 | KcH | Stem              |  5.495 |\n| 2 | KcH | Stem_cutting      | 20.995 |\n| 2 | KcH | Storage_root      |  0.000 |\n| 2 | KcN | Fibrous_root      |  2.830 |\n| 2 | KcN | Intermediate_root |  0.000 |\n| ⋮ | ⋮ | ⋮ | ⋮ |\n| 5 | KcN | Stem_cutting      | 101.195 |\n| 5 | KcN | Storage_root      | 548.265 |\n| 5 | KcL | Fibrous_root      |   2.755 |\n| 5 | KcL | Intermediate_root |   3.220 |\n| 5 | KcL | Mature_leaf       | 173.365 |\n| 5 | KcL | Petiole           |  67.220 |\n| 5 | KcL | Stem              | 191.605 |\n| 5 | KcL | Stem_cutting      | 120.545 |\n| 5 | KcL | Storage_root      | 607.010 |\n| 6 | KcH | Fibrous_root      |   2.420 |\n| 6 | KcH | Intermediate_root |   1.475 |\n| 6 | KcH | Mature_leaf       | 137.390 |\n| 6 | KcH | Petiole           |  71.355 |\n| 6 | KcH | Stem              | 278.910 |\n| 6 | KcH | Stem_cutting      |  91.230 |\n| 6 | KcH | Storage_root      | 621.795 |\n| 6 | KcN | Fibrous_root      |   2.015 |\n| 6 | KcN | Intermediate_root |   1.200 |\n| 6 | KcN | Mature_leaf       | 138.925 |\n| 6 | KcN | Petiole           |  79.105 |\n| 6 | KcN | Stem              | 292.120 |\n| 6 | KcN | Stem_cutting      | 105.020 |\n| 6 | KcN | Storage_root      | 732.250 |\n| 6 | KcL | Fibrous_root      |   2.855 |\n| 6 | KcL | Intermediate_root |   1.925 |\n| 6 | KcL | Mature_leaf       | 148.885 |\n| 6 | KcL | Petiole           |  85.815 |\n| 6 | KcL | Stem              | 291.645 |\n| 6 | KcL | Stem_cutting      | 125.105 |\n| 6 | KcL | Storage_root      | 960.825 |\n\n",
            "text/html": [
              "<table class=\"dataframe\">\n",
              "<caption>A grouped_df: 126 × 4</caption>\n",
              "<thead>\n",
              "\t<tr><th scope=col>Age_MAP</th><th scope=col>Condition</th><th scope=col>Tissue</th><th scope=col>Median_dry_weight</th></tr>\n",
              "\t<tr><th scope=col>&lt;fct&gt;</th><th scope=col>&lt;fct&gt;</th><th scope=col>&lt;chr&gt;</th><th scope=col>&lt;dbl&gt;</th></tr>\n",
              "</thead>\n",
              "<tbody>\n",
              "\t<tr><td>1</td><td>KcH</td><td>Fibrous_root     </td><td> 0.305</td></tr>\n",
              "\t<tr><td>1</td><td>KcH</td><td>Intermediate_root</td><td> 0.000</td></tr>\n",
              "\t<tr><td>1</td><td>KcH</td><td>Mature_leaf      </td><td> 2.620</td></tr>\n",
              "\t<tr><td>1</td><td>KcH</td><td>Petiole          </td><td> 0.840</td></tr>\n",
              "\t<tr><td>1</td><td>KcH</td><td>Stem             </td><td> 1.865</td></tr>\n",
              "\t<tr><td>1</td><td>KcH</td><td>Stem_cutting     </td><td>18.265</td></tr>\n",
              "\t<tr><td>1</td><td>KcH</td><td>Storage_root     </td><td> 0.000</td></tr>\n",
              "\t<tr><td>1</td><td>KcN</td><td>Fibrous_root     </td><td> 0.305</td></tr>\n",
              "\t<tr><td>1</td><td>KcN</td><td>Intermediate_root</td><td> 0.000</td></tr>\n",
              "\t<tr><td>1</td><td>KcN</td><td>Mature_leaf      </td><td> 3.595</td></tr>\n",
              "\t<tr><td>1</td><td>KcN</td><td>Petiole          </td><td> 1.055</td></tr>\n",
              "\t<tr><td>1</td><td>KcN</td><td>Stem             </td><td> 2.105</td></tr>\n",
              "\t<tr><td>1</td><td>KcN</td><td>Stem_cutting     </td><td>13.835</td></tr>\n",
              "\t<tr><td>1</td><td>KcN</td><td>Storage_root     </td><td> 0.000</td></tr>\n",
              "\t<tr><td>1</td><td>KcL</td><td>Fibrous_root     </td><td> 0.635</td></tr>\n",
              "\t<tr><td>1</td><td>KcL</td><td>Intermediate_root</td><td> 0.000</td></tr>\n",
              "\t<tr><td>1</td><td>KcL</td><td>Mature_leaf      </td><td> 3.190</td></tr>\n",
              "\t<tr><td>1</td><td>KcL</td><td>Petiole          </td><td> 0.940</td></tr>\n",
              "\t<tr><td>1</td><td>KcL</td><td>Stem             </td><td> 1.895</td></tr>\n",
              "\t<tr><td>1</td><td>KcL</td><td>Stem_cutting     </td><td>20.655</td></tr>\n",
              "\t<tr><td>1</td><td>KcL</td><td>Storage_root     </td><td> 0.000</td></tr>\n",
              "\t<tr><td>2</td><td>KcH</td><td>Fibrous_root     </td><td> 3.015</td></tr>\n",
              "\t<tr><td>2</td><td>KcH</td><td>Intermediate_root</td><td> 0.000</td></tr>\n",
              "\t<tr><td>2</td><td>KcH</td><td>Mature_leaf      </td><td> 7.825</td></tr>\n",
              "\t<tr><td>2</td><td>KcH</td><td>Petiole          </td><td> 2.445</td></tr>\n",
              "\t<tr><td>2</td><td>KcH</td><td>Stem             </td><td> 5.495</td></tr>\n",
              "\t<tr><td>2</td><td>KcH</td><td>Stem_cutting     </td><td>20.995</td></tr>\n",
              "\t<tr><td>2</td><td>KcH</td><td>Storage_root     </td><td> 0.000</td></tr>\n",
              "\t<tr><td>2</td><td>KcN</td><td>Fibrous_root     </td><td> 2.830</td></tr>\n",
              "\t<tr><td>2</td><td>KcN</td><td>Intermediate_root</td><td> 0.000</td></tr>\n",
              "\t<tr><td>⋮</td><td>⋮</td><td>⋮</td><td>⋮</td></tr>\n",
              "\t<tr><td>5</td><td>KcN</td><td>Stem_cutting     </td><td>101.195</td></tr>\n",
              "\t<tr><td>5</td><td>KcN</td><td>Storage_root     </td><td>548.265</td></tr>\n",
              "\t<tr><td>5</td><td>KcL</td><td>Fibrous_root     </td><td>  2.755</td></tr>\n",
              "\t<tr><td>5</td><td>KcL</td><td>Intermediate_root</td><td>  3.220</td></tr>\n",
              "\t<tr><td>5</td><td>KcL</td><td>Mature_leaf      </td><td>173.365</td></tr>\n",
              "\t<tr><td>5</td><td>KcL</td><td>Petiole          </td><td> 67.220</td></tr>\n",
              "\t<tr><td>5</td><td>KcL</td><td>Stem             </td><td>191.605</td></tr>\n",
              "\t<tr><td>5</td><td>KcL</td><td>Stem_cutting     </td><td>120.545</td></tr>\n",
              "\t<tr><td>5</td><td>KcL</td><td>Storage_root     </td><td>607.010</td></tr>\n",
              "\t<tr><td>6</td><td>KcH</td><td>Fibrous_root     </td><td>  2.420</td></tr>\n",
              "\t<tr><td>6</td><td>KcH</td><td>Intermediate_root</td><td>  1.475</td></tr>\n",
              "\t<tr><td>6</td><td>KcH</td><td>Mature_leaf      </td><td>137.390</td></tr>\n",
              "\t<tr><td>6</td><td>KcH</td><td>Petiole          </td><td> 71.355</td></tr>\n",
              "\t<tr><td>6</td><td>KcH</td><td>Stem             </td><td>278.910</td></tr>\n",
              "\t<tr><td>6</td><td>KcH</td><td>Stem_cutting     </td><td> 91.230</td></tr>\n",
              "\t<tr><td>6</td><td>KcH</td><td>Storage_root     </td><td>621.795</td></tr>\n",
              "\t<tr><td>6</td><td>KcN</td><td>Fibrous_root     </td><td>  2.015</td></tr>\n",
              "\t<tr><td>6</td><td>KcN</td><td>Intermediate_root</td><td>  1.200</td></tr>\n",
              "\t<tr><td>6</td><td>KcN</td><td>Mature_leaf      </td><td>138.925</td></tr>\n",
              "\t<tr><td>6</td><td>KcN</td><td>Petiole          </td><td> 79.105</td></tr>\n",
              "\t<tr><td>6</td><td>KcN</td><td>Stem             </td><td>292.120</td></tr>\n",
              "\t<tr><td>6</td><td>KcN</td><td>Stem_cutting     </td><td>105.020</td></tr>\n",
              "\t<tr><td>6</td><td>KcN</td><td>Storage_root     </td><td>732.250</td></tr>\n",
              "\t<tr><td>6</td><td>KcL</td><td>Fibrous_root     </td><td>  2.855</td></tr>\n",
              "\t<tr><td>6</td><td>KcL</td><td>Intermediate_root</td><td>  1.925</td></tr>\n",
              "\t<tr><td>6</td><td>KcL</td><td>Mature_leaf      </td><td>148.885</td></tr>\n",
              "\t<tr><td>6</td><td>KcL</td><td>Petiole          </td><td> 85.815</td></tr>\n",
              "\t<tr><td>6</td><td>KcL</td><td>Stem             </td><td>291.645</td></tr>\n",
              "\t<tr><td>6</td><td>KcL</td><td>Stem_cutting     </td><td>125.105</td></tr>\n",
              "\t<tr><td>6</td><td>KcL</td><td>Storage_root     </td><td>960.825</td></tr>\n",
              "</tbody>\n",
              "</table>\n"
            ]
          },
          "metadata": {
            "tags": []
          }
        }
      ]
    },
    {
      "cell_type": "markdown",
      "metadata": {
        "id": "udHJ3KDRAxaA"
      },
      "source": [
        "##8. Display frequency of dry weight matter in all `Tissue` at different `Age_MAP` using `ggplot()` with `geom_histogram()` and `facet_grid()`"
      ]
    },
    {
      "cell_type": "code",
      "metadata": {
        "colab": {
          "base_uri": "https://localhost:8080/",
          "height": 471
        },
        "id": "IkakKA6_A0EA",
        "outputId": "d5bd61db-f7b2-45e9-e8d3-3253f6dde47a"
      },
      "source": [
        "tbl_physio%>%\r\n",
        "  ggplot(aes(x=Dry_weight)) + \r\n",
        "  geom_histogram()"
      ],
      "execution_count": 8,
      "outputs": [
        {
          "output_type": "stream",
          "text": [
            "`stat_bin()` using `bins = 30`. Pick better value with `binwidth`.\n",
            "\n"
          ],
          "name": "stderr"
        },
        {
          "output_type": "display_data",
          "data": {
            "image/png": "[encoded data removed]",
            "text/plain": [
              "plot without title"
            ]
          },
          "metadata": {
            "tags": [],
            "image/png": {
              "width": 420,
              "height": 420
            }
          }
        }
      ]
    }
  ]
}